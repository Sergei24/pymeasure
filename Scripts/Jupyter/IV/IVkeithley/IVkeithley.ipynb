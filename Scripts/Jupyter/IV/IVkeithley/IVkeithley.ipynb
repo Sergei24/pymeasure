{
 "cells": [
  {
   "cell_type": "code",
   "execution_count": 4,
   "metadata": {},
   "outputs": [
    {
     "data": {
      "application/vnd.jupyter.widget-view+json": {
       "model_id": "f154b80339564787af282a2b36b497e7",
       "version_major": 2,
       "version_minor": 0
      },
      "text/plain": [
       "Text(value='Name', description='Sample name', placeholder='Type something')"
      ]
     },
     "metadata": {},
     "output_type": "display_data"
    },
    {
     "data": {
      "application/vnd.jupyter.widget-view+json": {
       "model_id": "04e6dac1097141c9a91192d7ac8caed9",
       "version_major": 2,
       "version_minor": 0
      },
      "text/plain": [
       "BoundedIntText(value=100, description='Range, in nA:', max=10000)"
      ]
     },
     "metadata": {},
     "output_type": "display_data"
    },
    {
     "data": {
      "application/vnd.jupyter.widget-view+json": {
       "model_id": "06fc31d657b34d5f925a5f66d763dab6",
       "version_major": 2,
       "version_minor": 0
      },
      "text/plain": [
       "BoundedIntText(value=10, description='Range, in nA:', max=10000)"
      ]
     },
     "metadata": {},
     "output_type": "display_data"
    }
   ],
   "source": [
    "from pymeasure.experiment import Experiment\n",
    "from IVkeithley import IV\n",
    "import ipywidgets as widgets\n",
    "%matplotlib inline\n",
    "\n",
    "#################################################################\n",
    "# ################### Widgets ###################################\n",
    "#################################################################\n",
    "\n",
    "sample_name = widgets.Text(\n",
    "    value='Name',\n",
    "    placeholder='Type something',\n",
    "    description='Sample name',\n",
    "    disabled=False\n",
    ")\n",
    "\n",
    "current_range = widgets.BoundedIntText(\n",
    "    value=100,\n",
    "    min=0,\n",
    "    max=10000,\n",
    "    step=1,\n",
    "    description='Range, in nA:',\n",
    "    disabled=False\n",
    ")\n",
    "\n",
    "current_step = widgets.BoundedIntText(\n",
    "    value=10,\n",
    "    min=0,\n",
    "    max=10000,\n",
    "    step=1,\n",
    "    description='Range, in nA:',\n",
    "    disabled=False\n",
    ")\n",
    "\n",
    "#################################################################\n",
    "#################################################################\n",
    "\n",
    "def run():\n",
    "    experiment = Experiment('IV', IV(current_range=current_range.value, current_step=current_step.value))\n",
    "    experiment.start()\n",
    "    experiment.plot_live('Current', 'Voltage')\n",
    "\n",
    "display(sample_name, current_range, current_step)"
   ]
  },
  {
   "cell_type": "code",
   "execution_count": 5,
   "metadata": {},
   "outputs": [
    {
     "name": "stderr",
     "output_type": "stream",
     "text": [
      "C:\\ProgramData\\Anaconda3\\lib\\site-packages\\matplotlib\\__init__.py:800: MatplotlibDeprecationWarning: axes.color_cycle is deprecated and replaced with axes.prop_cycle; please use the latter.\n",
      "  mplDeprecation)\n",
      "05:16:30 PM: Worker caught an error on <IV(status=Running,parameters_are_set=True)> (root, ERROR)\n",
      "Traceback (most recent call last):\n",
      "  File \"c:\\users\\sergei\\documents\\github\\pymeasure\\pymeasure\\experiment\\workers.py\", line 165, in run\n",
      "    self.procedure.startup()\n",
      "  File \"C:\\Users\\Sergei\\Documents\\GitHub\\pymeasure\\Scripts\\Jupyter\\IV\\IVkeithley\\IVkeithley.py\", line 31, in startup\n",
      "    self.meter = Keithley2182(\"GPIB::25\")\n",
      "  File \"c:\\users\\sergei\\documents\\github\\pymeasure\\pymeasure\\instruments\\keithley\\keithley2182.py\", line 46, in __init__\n",
      "    adapter, \"Keithley 2182 Nanovoltmeter\", **kwargs\n",
      "  File \"c:\\users\\sergei\\documents\\github\\pymeasure\\pymeasure\\instruments\\instrument.py\", line 52, in __init__\n",
      "    adapter = VISAAdapter(adapter, **kwargs)\n",
      "  File \"c:\\users\\sergei\\documents\\github\\pymeasure\\pymeasure\\adapters\\visa.py\", line 65, in __init__\n",
      "    **kwargs\n",
      "  File \"C:\\ProgramData\\Anaconda3\\lib\\site-packages\\pyvisa\\highlevel.py\", line 1634, in open_resource\n",
      "    info = self.resource_info(resource_name, extended=True)\n",
      "  File \"C:\\ProgramData\\Anaconda3\\lib\\site-packages\\pyvisa\\highlevel.py\", line 1594, in resource_info\n",
      "    ret, err = self.visalib.parse_resource_extended(self.session, resource_name)\n",
      "  File \"C:\\ProgramData\\Anaconda3\\lib\\site-packages\\pyvisa\\ctwrapper\\functions.py\", line 1383, in parse_resource_extended\n",
      "    alias_if_exists)\n",
      "  File \"C:\\ProgramData\\Anaconda3\\lib\\site-packages\\pyvisa\\ctwrapper\\highlevel.py\", line 188, in _return_handler\n",
      "    raise errors.VisaIOError(ret_value)\n",
      "pyvisa.errors.VisaIOError: VI_ERROR_LIBRARY_NFOUND (-1073807202): A code library required by VISA could not be located or loaded.\n",
      "Exception in thread Thread-7:\n",
      "Traceback (most recent call last):\n",
      "  File \"C:\\ProgramData\\Anaconda3\\lib\\threading.py\", line 916, in _bootstrap_inner\n",
      "    self.run()\n",
      "  File \"c:\\users\\sergei\\documents\\github\\pymeasure\\pymeasure\\experiment\\workers.py\", line 172, in run\n",
      "    self.shutdown()\n",
      "  File \"c:\\users\\sergei\\documents\\github\\pymeasure\\pymeasure\\experiment\\workers.py\", line 118, in shutdown\n",
      "    self.procedure.shutdown()\n",
      "  File \"C:\\Users\\Sergei\\Documents\\GitHub\\pymeasure\\Scripts\\Jupyter\\IV\\IVkeithley\\IVkeithley.py\", line 68, in shutdown\n",
      "    self.source.shutdown()\n",
      "AttributeError: 'IV' object has no attribute 'source'\n",
      "\n",
      "05:16:35 PM: Timeout, no data received for liveplot (root, WARNING)\n"
     ]
    }
   ],
   "source": [
    "run()"
   ]
  }
 ],
 "metadata": {
  "kernelspec": {
   "display_name": "Python 3",
   "language": "python",
   "name": "python3"
  },
  "language_info": {
   "codemirror_mode": {
    "name": "ipython",
    "version": 3
   },
   "file_extension": ".py",
   "mimetype": "text/x-python",
   "name": "python",
   "nbconvert_exporter": "python",
   "pygments_lexer": "ipython3",
   "version": "3.6.5"
  }
 },
 "nbformat": 4,
 "nbformat_minor": 2
}
